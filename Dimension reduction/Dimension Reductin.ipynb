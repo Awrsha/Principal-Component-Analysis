{
 "cells": [
  {
   "cell_type": "code",
   "execution_count": 6,
   "metadata": {},
   "outputs": [],
   "source": [
    "from PIL import Image\n",
    "\n",
    "#importing the image / size = 768*1024\n",
    "\n",
    "filename  =  \"desert.jpg\"\n",
    "\n",
    "image  =  Image.open(filename)\n",
    "\n",
    "#image.size returns a 2-tuple\n",
    "\n",
    "width,  height  =  image.size"
   ]
  },
  {
   "cell_type": "code",
   "execution_count": 7,
   "metadata": {},
   "outputs": [],
   "source": [
    "import numpy as np\n",
    " \n",
    "#transforming the \"image\" list into ndarray object \"npimage\"\n",
    "npimage = np.array(image)\n",
    " \n",
    "#define an array in a desired form (section 7.5 of the book) / [X1 X2 ... Xn] that Xi represents a [x1, x2, x3] for [R, G, B]\n",
    "arr = []\n",
    " \n",
    "#copying the im array into arr in the desired form\n",
    "for y in range(height - 1):\n",
    "          for x in range(width - 1):\n",
    "                   arr.append(npimage[y, x])\n",
    "                  \n",
    " \n",
    "#transforming the \"arr\" list into ndarray object \"nparr\"\n",
    "nparr = np.array(arr)"
   ]
  },
  {
   "cell_type": "code",
   "execution_count": null,
   "metadata": {},
   "outputs": [],
   "source": [
    "from matplotlib import pyplot as plt\n",
    " \n",
    "def show_data(nparr):\n",
    " \n",
    "          fig = plt.figure()\n",
    " \n",
    "          ax = fig.add_subplot(111, projection = '3d')\n",
    " \n",
    "          ax.scatter(nparr[:, ], nparr[:, 1], nparr[:, 2], c = 'b', marker = '.' )\n",
    " \n",
    "          ax.set_xlabel('Red')\n",
    "          ax.set_ylabel('Green')\n",
    "          ax.set_zlabel('Blue')\n",
    " \n",
    "          plt.show()\n",
    " \n",
    "show_data(nparr)"
   ]
  },
  {
   "cell_type": "code",
   "execution_count": null,
   "metadata": {},
   "outputs": [],
   "source": [
    "#it receives a 2D ndarray and shows the mean of all 1D arrays in it\n",
    "def data_mean(nparr):\n",
    "          result = nparr.sum(axis = )\n",
    "          columns = nparr.shape[]\n",
    "          return result/columns"
   ]
  },
  {
   "cell_type": "code",
   "execution_count": null,
   "metadata": {},
   "outputs": [],
   "source": [
    "def mean_deviation_func(nparr, mean):\n",
    "          mean_deviation = np.array(nparr - mean)\n",
    "          return mean_deviation\n",
    " \n",
    "nparr_mean = data_mean(nparr)\n",
    "nparr_mean_deviation = mean_deviation_func(nparr, nparr_mean)"
   ]
  },
  {
   "cell_type": "code",
   "execution_count": null,
   "metadata": {},
   "outputs": [],
   "source": [
    "def covariance_matrix(nparr_mean_deviation):\n",
    "          transpose = nparr_mean_deviation.transpose()\n",
    "          columns = nparr_mean_deviation.shape[]\n",
    "          return (1 / (columns - 1)) * np.dot(transpose, nparr_mean_deviation)\n",
    " \n",
    "covariance_matrix = covariance_matrix(nparr_mean_deviation)"
   ]
  },
  {
   "cell_type": "code",
   "execution_count": null,
   "metadata": {},
   "outputs": [],
   "source": [
    "print(\"variance of Red is:\")\n",
    "\n",
    "print(covariance_matrix[,  ])\n",
    "\n",
    "print(\"variance of Green is:\")\n",
    "\n",
    "print(covariance_matrix[1,  1])\n",
    "\n",
    "print(\"variance of Blue is:\")\n",
    "\n",
    "print(covariance_matrix[2,  2])\n",
    "\n",
    "print(\"covariance between Red and Green is:\")\n",
    "\n",
    "print(covariance_matrix[,  1])\n",
    "\n",
    "print(\"covariance between Red and Blue is:\")\n",
    "\n",
    "print(covariance_matrix[,  2])\n",
    "\n",
    "print(\"covariance between Blue and Green is:\")\n",
    "\n",
    "print(covariance_matrix[1,  2])"
   ]
  },
  {
   "cell_type": "code",
   "execution_count": null,
   "metadata": {},
   "outputs": [],
   "source": [
    "#returns a tuple of (eigenvalues, eigenvectors)\n",
    "def eigen(covariance_matrix):\n",
    "          return np.linalg.eig(covariance_matrix)\n",
    " \n",
    "eigenvalues, eigenvectors = eigen(covariance_matrix)\n",
    " \n",
    "print(\"eigenvalues are:\")\n",
    "print(eigenvalues)\n",
    "print(\"eigenvectors are:\")\n",
    "print(eigenvectors)"
   ]
  },
  {
   "cell_type": "code",
   "execution_count": null,
   "metadata": {},
   "outputs": [],
   "source": [
    "def explained_variance(eigenvalues):\n",
    "          total = sum(eigenvalues)\n",
    "          exp_variance = [(i / total)*100 for i in eigenvalues]\n",
    "          objects = ('Red', 'Green', 'Blue')\n",
    "          y_pos = np.arange(len(objects))\n",
    " \n",
    "          plt.bar(y_pos, exp_variance, align='center', alpha=0.5)\n",
    "          plt.xticks(y_pos, objects)\n",
    "          plt.ylabel('Percentage')\n",
    "          plt.title('Explained Variance')\n",
    " \n",
    "          plt.show()\n",
    " \n",
    "#explained_variance(eigenvalues)\n",
    "explained_variance(eigenvalues)"
   ]
  },
  {
   "cell_type": "code",
   "execution_count": null,
   "metadata": {},
   "outputs": [],
   "source": [
    "#sorting the eigen pairs in descending order\n",
    "eig_pairs = [(np.abs(eigenvalues[i]), eigenvectors[:,i]) for i in range(len(eigenvalues))]\n",
    "eig_pairs.sort(key=lambda x: x[], reverse=True)\n",
    " \n",
    "#constructing matrix w\n",
    "matrix_w = np.hstack((eig_pairs[][1].reshape(3,1), eig_pairs[1][1].reshape(3,1)))\n",
    "print('Matrix W:\\n', matrix_w)"
   ]
  },
  {
   "cell_type": "code",
   "execution_count": null,
   "metadata": {},
   "outputs": [],
   "source": [
    "def show_data_2d(nparr):\n",
    " \n",
    "          # x-axis values\n",
    "          x = nparr[:, ]\n",
    "          # y-axis values\n",
    "          y = nparr[:, 1]\n",
    " \n",
    "          # plotting points as a scatter plot\n",
    "          plt.scatter(x, y, label= \"pixels\", color= \"green\", marker= \".\", s=30)\n",
    " \n",
    "          # x-axis label\n",
    "          plt.xlabel('principle component 1')\n",
    "          # frequency label\n",
    "          plt.ylabel('principle component 2')\n",
    "          # plot title\n",
    "          plt.title('New Space')\n",
    "          # showing legend\n",
    "          plt.legend()\n",
    " \n",
    "          # function to show the plot\n",
    "          plt.show()\n",
    " \n",
    "#mapping the dataset to new space and printing it\n",
    "new_arr = nparr.dot(matrix_w)\n",
    "#show_data_2d(new_arr)\n",
    "show_data_2d(new_arr)"
   ]
  },
  {
   "cell_type": "code",
   "execution_count": null,
   "metadata": {},
   "outputs": [],
   "source": [
    "#constructing new image array\n",
    "new_arr_with_zeros = np.hstack([new_arr, np.zeros([height * width, 1])])\n",
    "new_image = Image.fromarray(np.reshape(new_arr_with_zeros, (height, width, 3)).astype('uint8'))\n",
    " \n",
    "#saving the new image\n",
    "new_image.save(\"new_deset.jpg\")"
   ]
  },
  {
   "cell_type": "code",
   "execution_count": null,
   "metadata": {},
   "outputs": [],
   "source": [
    "from sklearn.decomposition import PCA as sklearnPCA\n",
    "sklearn_pca = sklearnPCA(n_components=2)\n",
    "new_arr = sklearn_pca.fit_transform(nparr)"
   ]
  }
 ],
 "metadata": {
  "kernelspec": {
   "display_name": "Python 3",
   "language": "python",
   "name": "python3"
  },
  "language_info": {
   "codemirror_mode": {
    "name": "ipython",
    "version": 3
   },
   "file_extension": ".py",
   "mimetype": "text/x-python",
   "name": "python",
   "nbconvert_exporter": "python",
   "pygments_lexer": "ipython3",
   "version": "3.11.1"
  },
  "orig_nbformat": 4
 },
 "nbformat": 4,
 "nbformat_minor": 2
}
